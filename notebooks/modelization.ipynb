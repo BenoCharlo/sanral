{
 "cells": [
  {
   "cell_type": "markdown",
   "metadata": {},
   "source": [
    "# **PACKAGES**"
   ]
  },
  {
   "cell_type": "code",
   "execution_count": 1,
   "metadata": {},
   "outputs": [],
   "source": [
    "%load_ext autoreload\n",
    "%autoreload 2"
   ]
  },
  {
   "cell_type": "code",
   "execution_count": 2,
   "metadata": {},
   "outputs": [],
   "source": [
    "import os\n",
    "import re\n",
    "import datetime\n",
    "import pandas as pd\n",
    "import numpy as np\n",
    "import random\n",
    "import matplotlib.pyplot as plt\n",
    "import seaborn as sns\n",
    "sns.set_style\n",
    "\n",
    "ROOT_DIR = os.getcwd()\n",
    "if ROOT_DIR.endswith(\"notebooks\"):\n",
    "    ROOT_DIR = os.path.dirname(ROOT_DIR)\n",
    "\n",
    "os.chdir(ROOT_DIR)\n",
    "\n",
    "from src import utils, preprocessing\n",
    "from src.models import XGB_Model, LGB_Model, CatBoost_Model, KNN_Model, KFold_Strategy, report_perf\n",
    "import lightgbm as lgb\n",
    "import xgboost as xgb\n",
    "\n",
    "import warnings\n",
    "warnings.filterwarnings(\"ignore\")\n",
    "import gc"
   ]
  },
  {
   "cell_type": "code",
   "execution_count": null,
   "metadata": {},
   "outputs": [],
   "source": []
  },
  {
   "cell_type": "markdown",
   "metadata": {},
   "source": [
    "# **DATA LOADING**"
   ]
  },
  {
   "cell_type": "code",
   "execution_count": 3,
   "metadata": {},
   "outputs": [],
   "source": [
    "sanral = pd.read_csv(\"../data/output/train.csv\")\n",
    "submission = pd.read_csv(\"../data/SampleSubmission.csv\")"
   ]
  },
  {
   "cell_type": "code",
   "execution_count": 4,
   "metadata": {},
   "outputs": [],
   "source": [
    "target = pd.read_csv(\"../data/output/target.csv\")\n",
    "target.columns = [\"target\"]"
   ]
  },
  {
   "cell_type": "code",
   "execution_count": 5,
   "metadata": {},
   "outputs": [],
   "source": [
    "sanral = pd.concat([utils.MultiColumnLabelEncoder().fit_transform(sanral[[\"segment_id\", \"name_day\"]]), sanral.drop([\"segment_id\", \"name_day\"], axis=1)], axis=1)"
   ]
  },
  {
   "cell_type": "code",
   "execution_count": 6,
   "metadata": {},
   "outputs": [
    {
     "data": {
      "text/html": [
       "<div>\n",
       "<style scoped>\n",
       "    .dataframe tbody tr th:only-of-type {\n",
       "        vertical-align: middle;\n",
       "    }\n",
       "\n",
       "    .dataframe tbody tr th {\n",
       "        vertical-align: top;\n",
       "    }\n",
       "\n",
       "    .dataframe thead th {\n",
       "        text-align: right;\n",
       "    }\n",
       "</style>\n",
       "<table border=\"1\" class=\"dataframe\">\n",
       "  <thead>\n",
       "    <tr style=\"text-align: right;\">\n",
       "      <th></th>\n",
       "      <th>segment_id</th>\n",
       "      <th>name_day</th>\n",
       "      <th>datetime</th>\n",
       "      <th>train_test</th>\n",
       "      <th>latitude</th>\n",
       "      <th>longitude</th>\n",
       "      <th>year</th>\n",
       "      <th>month</th>\n",
       "      <th>day</th>\n",
       "      <th>hour</th>\n",
       "      <th>roads_freq</th>\n",
       "      <th>days_freq</th>\n",
       "      <th>month_freq</th>\n",
       "      <th>day_freq</th>\n",
       "      <th>hour_freq</th>\n",
       "    </tr>\n",
       "  </thead>\n",
       "  <tbody>\n",
       "    <tr>\n",
       "      <th>0</th>\n",
       "      <td>412</td>\n",
       "      <td>0</td>\n",
       "      <td>2016-01-01 00:00:00</td>\n",
       "      <td>1</td>\n",
       "      <td>-33.888275</td>\n",
       "      <td>18.540896</td>\n",
       "      <td>2016</td>\n",
       "      <td>1</td>\n",
       "      <td>1</td>\n",
       "      <td>0</td>\n",
       "      <td>0.003362</td>\n",
       "      <td>0.159658</td>\n",
       "      <td>0.081724</td>\n",
       "      <td>0.023941</td>\n",
       "      <td>0.049424</td>\n",
       "    </tr>\n",
       "    <tr>\n",
       "      <th>1</th>\n",
       "      <td>410</td>\n",
       "      <td>0</td>\n",
       "      <td>2016-01-01 00:00:00</td>\n",
       "      <td>1</td>\n",
       "      <td>-34.140857</td>\n",
       "      <td>18.930756</td>\n",
       "      <td>2016</td>\n",
       "      <td>1</td>\n",
       "      <td>1</td>\n",
       "      <td>0</td>\n",
       "      <td>0.001412</td>\n",
       "      <td>0.159658</td>\n",
       "      <td>0.081724</td>\n",
       "      <td>0.023941</td>\n",
       "      <td>0.049424</td>\n",
       "    </tr>\n",
       "    <tr>\n",
       "      <th>2</th>\n",
       "      <td>444</td>\n",
       "      <td>0</td>\n",
       "      <td>2016-01-01 00:00:00</td>\n",
       "      <td>1</td>\n",
       "      <td>-33.959154</td>\n",
       "      <td>18.553358</td>\n",
       "      <td>2016</td>\n",
       "      <td>1</td>\n",
       "      <td>1</td>\n",
       "      <td>0</td>\n",
       "      <td>0.003158</td>\n",
       "      <td>0.159658</td>\n",
       "      <td>0.081724</td>\n",
       "      <td>0.023941</td>\n",
       "      <td>0.049424</td>\n",
       "    </tr>\n",
       "    <tr>\n",
       "      <th>3</th>\n",
       "      <td>409</td>\n",
       "      <td>0</td>\n",
       "      <td>2016-01-01 00:00:00</td>\n",
       "      <td>1</td>\n",
       "      <td>-33.895258</td>\n",
       "      <td>18.677556</td>\n",
       "      <td>2016</td>\n",
       "      <td>1</td>\n",
       "      <td>1</td>\n",
       "      <td>0</td>\n",
       "      <td>0.000743</td>\n",
       "      <td>0.159658</td>\n",
       "      <td>0.081724</td>\n",
       "      <td>0.023941</td>\n",
       "      <td>0.049424</td>\n",
       "    </tr>\n",
       "    <tr>\n",
       "      <th>4</th>\n",
       "      <td>122</td>\n",
       "      <td>0</td>\n",
       "      <td>2016-01-01 00:00:00</td>\n",
       "      <td>1</td>\n",
       "      <td>-34.087051</td>\n",
       "      <td>18.837132</td>\n",
       "      <td>2016</td>\n",
       "      <td>1</td>\n",
       "      <td>1</td>\n",
       "      <td>0</td>\n",
       "      <td>0.017069</td>\n",
       "      <td>0.159658</td>\n",
       "      <td>0.081724</td>\n",
       "      <td>0.023941</td>\n",
       "      <td>0.049424</td>\n",
       "    </tr>\n",
       "  </tbody>\n",
       "</table>\n",
       "</div>"
      ],
      "text/plain": [
       "   segment_id  name_day             datetime  train_test   latitude  \\\n",
       "0         412         0  2016-01-01 00:00:00           1 -33.888275   \n",
       "1         410         0  2016-01-01 00:00:00           1 -34.140857   \n",
       "2         444         0  2016-01-01 00:00:00           1 -33.959154   \n",
       "3         409         0  2016-01-01 00:00:00           1 -33.895258   \n",
       "4         122         0  2016-01-01 00:00:00           1 -34.087051   \n",
       "\n",
       "   longitude  year  month  day  hour  roads_freq  days_freq  month_freq  \\\n",
       "0  18.540896  2016      1    1     0    0.003362   0.159658    0.081724   \n",
       "1  18.930756  2016      1    1     0    0.001412   0.159658    0.081724   \n",
       "2  18.553358  2016      1    1     0    0.003158   0.159658    0.081724   \n",
       "3  18.677556  2016      1    1     0    0.000743   0.159658    0.081724   \n",
       "4  18.837132  2016      1    1     0    0.017069   0.159658    0.081724   \n",
       "\n",
       "   day_freq  hour_freq  \n",
       "0  0.023941   0.049424  \n",
       "1  0.023941   0.049424  \n",
       "2  0.023941   0.049424  \n",
       "3  0.023941   0.049424  \n",
       "4  0.023941   0.049424  "
      ]
     },
     "execution_count": 6,
     "metadata": {},
     "output_type": "execute_result"
    }
   ],
   "source": [
    "sanral.head()"
   ]
  },
  {
   "cell_type": "code",
   "execution_count": 7,
   "metadata": {},
   "outputs": [],
   "source": [
    "train, test = utils.separate_train_test(sanral)"
   ]
  },
  {
   "cell_type": "code",
   "execution_count": 8,
   "metadata": {},
   "outputs": [],
   "source": [
    "train[\"target\"] = target"
   ]
  },
  {
   "cell_type": "code",
   "execution_count": 9,
   "metadata": {},
   "outputs": [
    {
     "data": {
      "text/html": [
       "<div>\n",
       "<style scoped>\n",
       "    .dataframe tbody tr th:only-of-type {\n",
       "        vertical-align: middle;\n",
       "    }\n",
       "\n",
       "    .dataframe tbody tr th {\n",
       "        vertical-align: top;\n",
       "    }\n",
       "\n",
       "    .dataframe thead th {\n",
       "        text-align: right;\n",
       "    }\n",
       "</style>\n",
       "<table border=\"1\" class=\"dataframe\">\n",
       "  <thead>\n",
       "    <tr style=\"text-align: right;\">\n",
       "      <th></th>\n",
       "      <th>segment_id</th>\n",
       "      <th>name_day</th>\n",
       "      <th>datetime</th>\n",
       "      <th>latitude</th>\n",
       "      <th>longitude</th>\n",
       "      <th>year</th>\n",
       "      <th>month</th>\n",
       "      <th>day</th>\n",
       "      <th>hour</th>\n",
       "      <th>roads_freq</th>\n",
       "      <th>days_freq</th>\n",
       "      <th>month_freq</th>\n",
       "      <th>day_freq</th>\n",
       "      <th>hour_freq</th>\n",
       "      <th>target</th>\n",
       "    </tr>\n",
       "  </thead>\n",
       "  <tbody>\n",
       "    <tr>\n",
       "      <th>0</th>\n",
       "      <td>412</td>\n",
       "      <td>0</td>\n",
       "      <td>2016-01-01 00:00:00</td>\n",
       "      <td>-33.888275</td>\n",
       "      <td>18.540896</td>\n",
       "      <td>2016</td>\n",
       "      <td>1</td>\n",
       "      <td>1</td>\n",
       "      <td>0</td>\n",
       "      <td>0.003362</td>\n",
       "      <td>0.159658</td>\n",
       "      <td>0.081724</td>\n",
       "      <td>0.023941</td>\n",
       "      <td>0.049424</td>\n",
       "      <td>1.0</td>\n",
       "    </tr>\n",
       "    <tr>\n",
       "      <th>1</th>\n",
       "      <td>410</td>\n",
       "      <td>0</td>\n",
       "      <td>2016-01-01 00:00:00</td>\n",
       "      <td>-34.140857</td>\n",
       "      <td>18.930756</td>\n",
       "      <td>2016</td>\n",
       "      <td>1</td>\n",
       "      <td>1</td>\n",
       "      <td>0</td>\n",
       "      <td>0.001412</td>\n",
       "      <td>0.159658</td>\n",
       "      <td>0.081724</td>\n",
       "      <td>0.023941</td>\n",
       "      <td>0.049424</td>\n",
       "      <td>0.0</td>\n",
       "    </tr>\n",
       "    <tr>\n",
       "      <th>2</th>\n",
       "      <td>444</td>\n",
       "      <td>0</td>\n",
       "      <td>2016-01-01 00:00:00</td>\n",
       "      <td>-33.959154</td>\n",
       "      <td>18.553358</td>\n",
       "      <td>2016</td>\n",
       "      <td>1</td>\n",
       "      <td>1</td>\n",
       "      <td>0</td>\n",
       "      <td>0.003158</td>\n",
       "      <td>0.159658</td>\n",
       "      <td>0.081724</td>\n",
       "      <td>0.023941</td>\n",
       "      <td>0.049424</td>\n",
       "      <td>0.0</td>\n",
       "    </tr>\n",
       "    <tr>\n",
       "      <th>3</th>\n",
       "      <td>409</td>\n",
       "      <td>0</td>\n",
       "      <td>2016-01-01 00:00:00</td>\n",
       "      <td>-33.895258</td>\n",
       "      <td>18.677556</td>\n",
       "      <td>2016</td>\n",
       "      <td>1</td>\n",
       "      <td>1</td>\n",
       "      <td>0</td>\n",
       "      <td>0.000743</td>\n",
       "      <td>0.159658</td>\n",
       "      <td>0.081724</td>\n",
       "      <td>0.023941</td>\n",
       "      <td>0.049424</td>\n",
       "      <td>0.0</td>\n",
       "    </tr>\n",
       "    <tr>\n",
       "      <th>4</th>\n",
       "      <td>122</td>\n",
       "      <td>0</td>\n",
       "      <td>2016-01-01 00:00:00</td>\n",
       "      <td>-34.087051</td>\n",
       "      <td>18.837132</td>\n",
       "      <td>2016</td>\n",
       "      <td>1</td>\n",
       "      <td>1</td>\n",
       "      <td>0</td>\n",
       "      <td>0.017069</td>\n",
       "      <td>0.159658</td>\n",
       "      <td>0.081724</td>\n",
       "      <td>0.023941</td>\n",
       "      <td>0.049424</td>\n",
       "      <td>0.0</td>\n",
       "    </tr>\n",
       "  </tbody>\n",
       "</table>\n",
       "</div>"
      ],
      "text/plain": [
       "   segment_id  name_day             datetime   latitude  longitude  year  \\\n",
       "0         412         0  2016-01-01 00:00:00 -33.888275  18.540896  2016   \n",
       "1         410         0  2016-01-01 00:00:00 -34.140857  18.930756  2016   \n",
       "2         444         0  2016-01-01 00:00:00 -33.959154  18.553358  2016   \n",
       "3         409         0  2016-01-01 00:00:00 -33.895258  18.677556  2016   \n",
       "4         122         0  2016-01-01 00:00:00 -34.087051  18.837132  2016   \n",
       "\n",
       "   month  day  hour  roads_freq  days_freq  month_freq  day_freq  hour_freq  \\\n",
       "0      1    1     0    0.003362   0.159658    0.081724  0.023941   0.049424   \n",
       "1      1    1     0    0.001412   0.159658    0.081724  0.023941   0.049424   \n",
       "2      1    1     0    0.003158   0.159658    0.081724  0.023941   0.049424   \n",
       "3      1    1     0    0.000743   0.159658    0.081724  0.023941   0.049424   \n",
       "4      1    1     0    0.017069   0.159658    0.081724  0.023941   0.049424   \n",
       "\n",
       "   target  \n",
       "0     1.0  \n",
       "1     0.0  \n",
       "2     0.0  \n",
       "3     0.0  \n",
       "4     0.0  "
      ]
     },
     "execution_count": 9,
     "metadata": {},
     "output_type": "execute_result"
    }
   ],
   "source": [
    "train.head()"
   ]
  },
  {
   "cell_type": "code",
   "execution_count": 10,
   "metadata": {},
   "outputs": [
    {
     "data": {
      "text/plain": [
       "0.0    0.996408\n",
       "1.0    0.003592\n",
       "Name: target, dtype: float64"
      ]
     },
     "execution_count": 10,
     "metadata": {},
     "output_type": "execute_result"
    }
   ],
   "source": [
    "train.target.value_counts(True)"
   ]
  },
  {
   "cell_type": "code",
   "execution_count": null,
   "metadata": {},
   "outputs": [],
   "source": []
  },
  {
   "cell_type": "markdown",
   "metadata": {},
   "source": [
    "# **DOWNSAMPLING**"
   ]
  },
  {
   "cell_type": "markdown",
   "metadata": {},
   "source": [
    "Let's consider a new sample of **60-40** of data in each category of my target."
   ]
  },
  {
   "cell_type": "code",
   "execution_count": 11,
   "metadata": {},
   "outputs": [],
   "source": [
    "n_samples = 0.6\n",
    "n_negatives = int(np.round(1/n_samples * train[train.target==1].shape[0]))"
   ]
  },
  {
   "cell_type": "code",
   "execution_count": 12,
   "metadata": {},
   "outputs": [
    {
     "data": {
      "text/plain": [
       "85662"
      ]
     },
     "execution_count": 12,
     "metadata": {},
     "output_type": "execute_result"
    }
   ],
   "source": [
    "n_negatives"
   ]
  },
  {
   "cell_type": "markdown",
   "metadata": {},
   "source": [
    "## **RANDOM SAMPLING**"
   ]
  },
  {
   "cell_type": "code",
   "execution_count": 13,
   "metadata": {},
   "outputs": [],
   "source": [
    "random.seed(56)\n",
    "\n",
    "negative_ids = list(train[train.target==0].index)\n",
    "negative_ids = np.random.choice(negative_ids,n_negatives, replace=False)"
   ]
  },
  {
   "cell_type": "code",
   "execution_count": 14,
   "metadata": {},
   "outputs": [],
   "source": [
    "new_train = train.loc[(train.target == 1) |\n",
    "                      (train.index.isin(negative_ids))]\n",
    "\n",
    "new_train = new_train.sort_index(ascending=True)"
   ]
  },
  {
   "cell_type": "code",
   "execution_count": 15,
   "metadata": {},
   "outputs": [
    {
     "data": {
      "text/html": [
       "<div>\n",
       "<style scoped>\n",
       "    .dataframe tbody tr th:only-of-type {\n",
       "        vertical-align: middle;\n",
       "    }\n",
       "\n",
       "    .dataframe tbody tr th {\n",
       "        vertical-align: top;\n",
       "    }\n",
       "\n",
       "    .dataframe thead th {\n",
       "        text-align: right;\n",
       "    }\n",
       "</style>\n",
       "<table border=\"1\" class=\"dataframe\">\n",
       "  <thead>\n",
       "    <tr style=\"text-align: right;\">\n",
       "      <th></th>\n",
       "      <th>segment_id</th>\n",
       "      <th>name_day</th>\n",
       "      <th>datetime</th>\n",
       "      <th>latitude</th>\n",
       "      <th>longitude</th>\n",
       "      <th>year</th>\n",
       "      <th>month</th>\n",
       "      <th>day</th>\n",
       "      <th>hour</th>\n",
       "      <th>roads_freq</th>\n",
       "      <th>days_freq</th>\n",
       "      <th>month_freq</th>\n",
       "      <th>day_freq</th>\n",
       "      <th>hour_freq</th>\n",
       "      <th>target</th>\n",
       "    </tr>\n",
       "  </thead>\n",
       "  <tbody>\n",
       "    <tr>\n",
       "      <th>14308987</th>\n",
       "      <td>57</td>\n",
       "      <td>1</td>\n",
       "      <td>2018-12-31 23:00:00</td>\n",
       "      <td>-33.849859</td>\n",
       "      <td>18.708148</td>\n",
       "      <td>2018</td>\n",
       "      <td>12</td>\n",
       "      <td>31</td>\n",
       "      <td>23</td>\n",
       "      <td>0.000241</td>\n",
       "      <td>0.160364</td>\n",
       "      <td>0.093425</td>\n",
       "      <td>0.017961</td>\n",
       "      <td>0.014896</td>\n",
       "      <td>1.0</td>\n",
       "    </tr>\n",
       "    <tr>\n",
       "      <th>14309194</th>\n",
       "      <td>170</td>\n",
       "      <td>1</td>\n",
       "      <td>2018-12-31 23:00:00</td>\n",
       "      <td>-33.831272</td>\n",
       "      <td>18.751022</td>\n",
       "      <td>2018</td>\n",
       "      <td>12</td>\n",
       "      <td>31</td>\n",
       "      <td>23</td>\n",
       "      <td>0.000279</td>\n",
       "      <td>0.160364</td>\n",
       "      <td>0.093425</td>\n",
       "      <td>0.017961</td>\n",
       "      <td>0.014896</td>\n",
       "      <td>0.0</td>\n",
       "    </tr>\n",
       "    <tr>\n",
       "      <th>14309208</th>\n",
       "      <td>390</td>\n",
       "      <td>1</td>\n",
       "      <td>2018-12-31 23:00:00</td>\n",
       "      <td>-33.921624</td>\n",
       "      <td>18.478168</td>\n",
       "      <td>2018</td>\n",
       "      <td>12</td>\n",
       "      <td>31</td>\n",
       "      <td>23</td>\n",
       "      <td>0.001579</td>\n",
       "      <td>0.160364</td>\n",
       "      <td>0.093425</td>\n",
       "      <td>0.017961</td>\n",
       "      <td>0.014896</td>\n",
       "      <td>0.0</td>\n",
       "    </tr>\n",
       "    <tr>\n",
       "      <th>14309254</th>\n",
       "      <td>312</td>\n",
       "      <td>1</td>\n",
       "      <td>2018-12-31 23:00:00</td>\n",
       "      <td>-33.960305</td>\n",
       "      <td>18.461827</td>\n",
       "      <td>2018</td>\n",
       "      <td>12</td>\n",
       "      <td>31</td>\n",
       "      <td>23</td>\n",
       "      <td>0.000019</td>\n",
       "      <td>0.160364</td>\n",
       "      <td>0.093425</td>\n",
       "      <td>0.017961</td>\n",
       "      <td>0.014896</td>\n",
       "      <td>0.0</td>\n",
       "    </tr>\n",
       "    <tr>\n",
       "      <th>14309295</th>\n",
       "      <td>9</td>\n",
       "      <td>1</td>\n",
       "      <td>2018-12-31 23:00:00</td>\n",
       "      <td>-34.062133</td>\n",
       "      <td>18.800114</td>\n",
       "      <td>2018</td>\n",
       "      <td>12</td>\n",
       "      <td>31</td>\n",
       "      <td>23</td>\n",
       "      <td>0.000056</td>\n",
       "      <td>0.160364</td>\n",
       "      <td>0.093425</td>\n",
       "      <td>0.017961</td>\n",
       "      <td>0.014896</td>\n",
       "      <td>0.0</td>\n",
       "    </tr>\n",
       "  </tbody>\n",
       "</table>\n",
       "</div>"
      ],
      "text/plain": [
       "          segment_id  name_day             datetime   latitude  longitude  \\\n",
       "14308987          57         1  2018-12-31 23:00:00 -33.849859  18.708148   \n",
       "14309194         170         1  2018-12-31 23:00:00 -33.831272  18.751022   \n",
       "14309208         390         1  2018-12-31 23:00:00 -33.921624  18.478168   \n",
       "14309254         312         1  2018-12-31 23:00:00 -33.960305  18.461827   \n",
       "14309295           9         1  2018-12-31 23:00:00 -34.062133  18.800114   \n",
       "\n",
       "          year  month  day  hour  roads_freq  days_freq  month_freq  day_freq  \\\n",
       "14308987  2018     12   31    23    0.000241   0.160364    0.093425  0.017961   \n",
       "14309194  2018     12   31    23    0.000279   0.160364    0.093425  0.017961   \n",
       "14309208  2018     12   31    23    0.001579   0.160364    0.093425  0.017961   \n",
       "14309254  2018     12   31    23    0.000019   0.160364    0.093425  0.017961   \n",
       "14309295  2018     12   31    23    0.000056   0.160364    0.093425  0.017961   \n",
       "\n",
       "          hour_freq  target  \n",
       "14308987   0.014896     1.0  \n",
       "14309194   0.014896     0.0  \n",
       "14309208   0.014896     0.0  \n",
       "14309254   0.014896     0.0  \n",
       "14309295   0.014896     0.0  "
      ]
     },
     "execution_count": 15,
     "metadata": {},
     "output_type": "execute_result"
    }
   ],
   "source": [
    "new_train.tail()"
   ]
  },
  {
   "cell_type": "markdown",
   "metadata": {},
   "source": []
  },
  {
   "cell_type": "markdown",
   "metadata": {},
   "source": [
    "# **MODELIZATION**"
   ]
  },
  {
   "cell_type": "code",
   "execution_count": 16,
   "metadata": {},
   "outputs": [],
   "source": [
    "target = new_train.target\n",
    "new_train.drop(\"target\", axis=1, inplace=True)"
   ]
  },
  {
   "cell_type": "code",
   "execution_count": 17,
   "metadata": {},
   "outputs": [],
   "source": [
    "X = new_train.drop([\"datetime\"], axis=1)\n",
    "X_test = test.drop([\"datetime\"], axis=1)"
   ]
  },
  {
   "cell_type": "markdown",
   "metadata": {},
   "source": [
    "### **XGBOOST**"
   ]
  },
  {
   "cell_type": "code",
   "execution_count": 113,
   "metadata": {},
   "outputs": [],
   "source": [
    "dtrain = XGB_Model().prepare_data(X, target)\n",
    "dtest = XGB_Model().prepare_data(X_test.iloc[544:,:], None)"
   ]
  },
  {
   "cell_type": "code",
   "execution_count": 118,
   "metadata": {},
   "outputs": [],
   "source": [
    "xgb_params = {\n",
    "    'max_depth': 4, \n",
    "    'eta': 0.1, \n",
    "    'objective': 'binary:logistic',\n",
    "    'nthread'  : 4,\n",
    "    #'eval_metric' : \"error\",\n",
    "}"
   ]
  },
  {
   "cell_type": "code",
   "execution_count": 129,
   "metadata": {},
   "outputs": [],
   "source": [
    "cv_classif_xgb = XGB_Model().train_xgb_cv(dtrain, params=xgb_params, nfold=5, num_boost_round=1000)"
   ]
  },
  {
   "cell_type": "code",
   "execution_count": 130,
   "metadata": {},
   "outputs": [
    {
     "data": {
      "text/html": [
       "<div>\n",
       "<style scoped>\n",
       "    .dataframe tbody tr th:only-of-type {\n",
       "        vertical-align: middle;\n",
       "    }\n",
       "\n",
       "    .dataframe tbody tr th {\n",
       "        vertical-align: top;\n",
       "    }\n",
       "\n",
       "    .dataframe thead th {\n",
       "        text-align: right;\n",
       "    }\n",
       "</style>\n",
       "<table border=\"1\" class=\"dataframe\">\n",
       "  <thead>\n",
       "    <tr style=\"text-align: right;\">\n",
       "      <th></th>\n",
       "      <th>train-error-mean</th>\n",
       "      <th>train-error-std</th>\n",
       "      <th>train-f1_err-mean</th>\n",
       "      <th>train-f1_err-std</th>\n",
       "      <th>test-error-mean</th>\n",
       "      <th>test-error-std</th>\n",
       "      <th>test-f1_err-mean</th>\n",
       "      <th>test-f1_err-std</th>\n",
       "    </tr>\n",
       "  </thead>\n",
       "  <tbody>\n",
       "    <tr>\n",
       "      <th>0</th>\n",
       "      <td>0.316444</td>\n",
       "      <td>0.000954</td>\n",
       "      <td>0.384167</td>\n",
       "      <td>0.000829</td>\n",
       "      <td>0.316747</td>\n",
       "      <td>0.003316</td>\n",
       "      <td>0.384523</td>\n",
       "      <td>0.004317</td>\n",
       "    </tr>\n",
       "    <tr>\n",
       "      <th>1</th>\n",
       "      <td>0.316358</td>\n",
       "      <td>0.001056</td>\n",
       "      <td>0.384657</td>\n",
       "      <td>0.001221</td>\n",
       "      <td>0.316426</td>\n",
       "      <td>0.003726</td>\n",
       "      <td>0.384726</td>\n",
       "      <td>0.003260</td>\n",
       "    </tr>\n",
       "    <tr>\n",
       "      <th>2</th>\n",
       "      <td>0.314076</td>\n",
       "      <td>0.000718</td>\n",
       "      <td>0.383031</td>\n",
       "      <td>0.002075</td>\n",
       "      <td>0.314295</td>\n",
       "      <td>0.003846</td>\n",
       "      <td>0.383378</td>\n",
       "      <td>0.005453</td>\n",
       "    </tr>\n",
       "    <tr>\n",
       "      <th>3</th>\n",
       "      <td>0.309500</td>\n",
       "      <td>0.000966</td>\n",
       "      <td>0.388618</td>\n",
       "      <td>0.004669</td>\n",
       "      <td>0.309896</td>\n",
       "      <td>0.005205</td>\n",
       "      <td>0.388831</td>\n",
       "      <td>0.003153</td>\n",
       "    </tr>\n",
       "    <tr>\n",
       "      <th>4</th>\n",
       "      <td>0.308719</td>\n",
       "      <td>0.001615</td>\n",
       "      <td>0.388523</td>\n",
       "      <td>0.005806</td>\n",
       "      <td>0.309414</td>\n",
       "      <td>0.004301</td>\n",
       "      <td>0.389069</td>\n",
       "      <td>0.003301</td>\n",
       "    </tr>\n",
       "    <tr>\n",
       "      <th>...</th>\n",
       "      <td>...</td>\n",
       "      <td>...</td>\n",
       "      <td>...</td>\n",
       "      <td>...</td>\n",
       "      <td>...</td>\n",
       "      <td>...</td>\n",
       "      <td>...</td>\n",
       "      <td>...</td>\n",
       "    </tr>\n",
       "    <tr>\n",
       "      <th>995</th>\n",
       "      <td>0.173923</td>\n",
       "      <td>0.000570</td>\n",
       "      <td>0.236768</td>\n",
       "      <td>0.001031</td>\n",
       "      <td>0.189809</td>\n",
       "      <td>0.002447</td>\n",
       "      <td>0.258801</td>\n",
       "      <td>0.002843</td>\n",
       "    </tr>\n",
       "    <tr>\n",
       "      <th>996</th>\n",
       "      <td>0.173870</td>\n",
       "      <td>0.000573</td>\n",
       "      <td>0.236691</td>\n",
       "      <td>0.001038</td>\n",
       "      <td>0.189787</td>\n",
       "      <td>0.002387</td>\n",
       "      <td>0.258774</td>\n",
       "      <td>0.002753</td>\n",
       "    </tr>\n",
       "    <tr>\n",
       "      <th>997</th>\n",
       "      <td>0.173825</td>\n",
       "      <td>0.000584</td>\n",
       "      <td>0.236631</td>\n",
       "      <td>0.001076</td>\n",
       "      <td>0.189809</td>\n",
       "      <td>0.002384</td>\n",
       "      <td>0.258802</td>\n",
       "      <td>0.002763</td>\n",
       "    </tr>\n",
       "    <tr>\n",
       "      <th>998</th>\n",
       "      <td>0.173830</td>\n",
       "      <td>0.000572</td>\n",
       "      <td>0.236646</td>\n",
       "      <td>0.001053</td>\n",
       "      <td>0.189824</td>\n",
       "      <td>0.002415</td>\n",
       "      <td>0.258817</td>\n",
       "      <td>0.002835</td>\n",
       "    </tr>\n",
       "    <tr>\n",
       "      <th>999</th>\n",
       "      <td>0.173847</td>\n",
       "      <td>0.000583</td>\n",
       "      <td>0.236665</td>\n",
       "      <td>0.001050</td>\n",
       "      <td>0.189823</td>\n",
       "      <td>0.002426</td>\n",
       "      <td>0.258832</td>\n",
       "      <td>0.002870</td>\n",
       "    </tr>\n",
       "  </tbody>\n",
       "</table>\n",
       "<p>1000 rows × 8 columns</p>\n",
       "</div>"
      ],
      "text/plain": [
       "     train-error-mean  train-error-std  train-f1_err-mean  train-f1_err-std  \\\n",
       "0            0.316444         0.000954           0.384167          0.000829   \n",
       "1            0.316358         0.001056           0.384657          0.001221   \n",
       "2            0.314076         0.000718           0.383031          0.002075   \n",
       "3            0.309500         0.000966           0.388618          0.004669   \n",
       "4            0.308719         0.001615           0.388523          0.005806   \n",
       "..                ...              ...                ...               ...   \n",
       "995          0.173923         0.000570           0.236768          0.001031   \n",
       "996          0.173870         0.000573           0.236691          0.001038   \n",
       "997          0.173825         0.000584           0.236631          0.001076   \n",
       "998          0.173830         0.000572           0.236646          0.001053   \n",
       "999          0.173847         0.000583           0.236665          0.001050   \n",
       "\n",
       "     test-error-mean  test-error-std  test-f1_err-mean  test-f1_err-std  \n",
       "0           0.316747        0.003316          0.384523         0.004317  \n",
       "1           0.316426        0.003726          0.384726         0.003260  \n",
       "2           0.314295        0.003846          0.383378         0.005453  \n",
       "3           0.309896        0.005205          0.388831         0.003153  \n",
       "4           0.309414        0.004301          0.389069         0.003301  \n",
       "..               ...             ...               ...              ...  \n",
       "995         0.189809        0.002447          0.258801         0.002843  \n",
       "996         0.189787        0.002387          0.258774         0.002753  \n",
       "997         0.189809        0.002384          0.258802         0.002763  \n",
       "998         0.189824        0.002415          0.258817         0.002835  \n",
       "999         0.189823        0.002426          0.258832         0.002870  \n",
       "\n",
       "[1000 rows x 8 columns]"
      ]
     },
     "execution_count": 130,
     "metadata": {},
     "output_type": "execute_result"
    }
   ],
   "source": [
    "cv_classif_xgb"
   ]
  },
  {
   "cell_type": "code",
   "execution_count": 93,
   "metadata": {},
   "outputs": [
    {
     "name": "stdout",
     "output_type": "stream",
     "text": [
      "Argmin is: 908 and the minimum is : 0.1895388\n"
     ]
    }
   ],
   "source": [
    "print(\"Argmin is:\", np.argmin(cv_classif_xgb['test-error-mean']), \"and the minimum is :\", np.min(cv_classif_xgb['test-error-mean']))"
   ]
  },
  {
   "cell_type": "code",
   "execution_count": 95,
   "metadata": {},
   "outputs": [],
   "source": [
    "xgb_num_boost = np.argmin(cv_classif_xgb['test-error-mean'])"
   ]
  },
  {
   "cell_type": "code",
   "execution_count": 98,
   "metadata": {},
   "outputs": [
    {
     "data": {
      "text/plain": [
       "[<matplotlib.lines.Line2D at 0x1183f3b10>]"
      ]
     },
     "execution_count": 98,
     "metadata": {},
     "output_type": "execute_result"
    },
    {
     "data": {
      "image/png": "[encoded data removed]",
      "text/plain": [
       "<Figure size 864x648 with 1 Axes>"
      ]
     },
     "metadata": {
      "needs_background": "light"
     },
     "output_type": "display_data"
    }
   ],
   "source": [
    "plt.figure(figsize=(12,9))\n",
    "\n",
    "plt.plot(cv_classif_xgb['train-error-mean'], color=\"red\")\n",
    "#plt.plot(cv_rmse_xgb['train-rmse-mean'] + cv_rmse_xgb['train-rmse-std'], color=\"red\", marker=\"+\")\n",
    "#plt.plot(cv_rmse_xgb['train-rmse-mean'] - cv_rmse_xgb['train-rmse-std'], color=\"red\", marker=\"+\")\n",
    "plt.plot(cv_classif_xgb['test-error-mean'], color=\"blue\")\n",
    "#plt.plot(cv_rmse_xgb['test-rmse-mean'] + cv_rmse_xgb['test-rmse-std'], color=\"blue\", marker=\"+\")\n",
    "#plt.plot(cv_rmse_xgb['test-rmse-mean'] - cv_rmse_xgb['test-rmse-std'], color=\"blue\", marker=\"+\")"
   ]
  },
  {
   "cell_type": "code",
   "execution_count": 99,
   "metadata": {},
   "outputs": [],
   "source": [
    "xgb_model = XGB_Model().train_xgb(dtrain,  xgb_params, xgb_num_boost)"
   ]
  },
  {
   "cell_type": "code",
   "execution_count": 114,
   "metadata": {},
   "outputs": [],
   "source": [
    "xgb_pred = xgb_model.predict(dtest)\n",
    "xgb_pred_train = xgb_model.predict(dtrain)"
   ]
  },
  {
   "cell_type": "code",
   "execution_count": 127,
   "metadata": {},
   "outputs": [],
   "source": [
    "xgb_submission = submission\n",
    "xgb_submission[\"prediction\"] = np.round(xgb_pred)"
   ]
  },
  {
   "cell_type": "code",
   "execution_count": 128,
   "metadata": {},
   "outputs": [],
   "source": [
    "xgb_submission.to_csv(\"../submissions/XgBoost_simple_Le.csv\", index=False)"
   ]
  },
  {
   "cell_type": "code",
   "execution_count": null,
   "metadata": {},
   "outputs": [],
   "source": []
  },
  {
   "cell_type": "markdown",
   "metadata": {},
   "source": [
    "#### **TEST FOR XGBOOST**"
   ]
  },
  {
   "cell_type": "code",
   "execution_count": 146,
   "metadata": {},
   "outputs": [],
   "source": [
    "class_weights = np.ones(new_train.shape[0])\n",
    "class_weights[target==1] = 99\n",
    "class_weights[target==0] = 1"
   ]
  },
  {
   "cell_type": "code",
   "execution_count": 152,
   "metadata": {},
   "outputs": [],
   "source": [
    "xgb_classifier = xgb.XGBClassifier(\n",
    "    max_depth=4,\n",
    "    n_estimators=900,\n",
    "    n_jobs=-1)"
   ]
  },
  {
   "cell_type": "code",
   "execution_count": null,
   "metadata": {},
   "outputs": [
    {
     "name": "stdout",
     "output_type": "stream",
     "text": [
      "[19:26:40] WARNING: src/learner.cc:686: Tree method is automatically selected to be 'approx' for faster speed. To use old behavior (exact greedy algorithm on single machine), set tree_method to 'exact'.\n"
     ]
    }
   ],
   "source": [
    "xgb_classifier.fit(X, target, sample_weight=class_weights)"
   ]
  },
  {
   "cell_type": "code",
   "execution_count": null,
   "metadata": {},
   "outputs": [],
   "source": [
    "xgb_pred = xgb_classifier.predict(X_test.iloc[544:,:])"
   ]
  },
  {
   "cell_type": "code",
   "execution_count": null,
   "metadata": {},
   "outputs": [],
   "source": []
  },
  {
   "cell_type": "markdown",
   "metadata": {},
   "source": [
    "### **LGBM**"
   ]
  },
  {
   "cell_type": "code",
   "execution_count": 18,
   "metadata": {},
   "outputs": [],
   "source": [
    "dtrain = LGB_Model().prepare_data(X, target)\n",
    "dtest = LGB_Model().prepare_data(X_test, None)"
   ]
  },
  {
   "cell_type": "code",
   "execution_count": 24,
   "metadata": {},
   "outputs": [],
   "source": [
    "lgb_params = {\n",
    "    'boosting': \"gbdt\", \n",
    "    'learning_rate': 0.1, \n",
    "    'objective': 'binary',\n",
    "    'num_threads'  : 4,\n",
    "#    'metric' : \"binary\",\n",
    "}"
   ]
  },
  {
   "cell_type": "code",
   "execution_count": 44,
   "metadata": {},
   "outputs": [],
   "source": [
    "cv_classif_lgb = LGB_Model().train_lgb_cv(dtrain, params=lgb_params, nfold=5, num_boost_round=1000)"
   ]
  },
  {
   "cell_type": "code",
   "execution_count": 45,
   "metadata": {},
   "outputs": [
    {
     "data": {
      "text/html": [
       "<div>\n",
       "<style scoped>\n",
       "    .dataframe tbody tr th:only-of-type {\n",
       "        vertical-align: middle;\n",
       "    }\n",
       "\n",
       "    .dataframe tbody tr th {\n",
       "        vertical-align: top;\n",
       "    }\n",
       "\n",
       "    .dataframe thead th {\n",
       "        text-align: right;\n",
       "    }\n",
       "</style>\n",
       "<table border=\"1\" class=\"dataframe\">\n",
       "  <thead>\n",
       "    <tr style=\"text-align: right;\">\n",
       "      <th></th>\n",
       "      <th>binary_logloss-mean</th>\n",
       "      <th>binary_logloss-stdv</th>\n",
       "      <th>f1_err-mean</th>\n",
       "      <th>f1_err-stdv</th>\n",
       "    </tr>\n",
       "  </thead>\n",
       "  <tbody>\n",
       "    <tr>\n",
       "      <th>0</th>\n",
       "      <td>0.642188</td>\n",
       "      <td>0.002133</td>\n",
       "      <td>0.000000</td>\n",
       "      <td>0.000000</td>\n",
       "    </tr>\n",
       "    <tr>\n",
       "      <th>1</th>\n",
       "      <td>0.626463</td>\n",
       "      <td>0.001836</td>\n",
       "      <td>0.000000</td>\n",
       "      <td>0.000000</td>\n",
       "    </tr>\n",
       "    <tr>\n",
       "      <th>2</th>\n",
       "      <td>0.612966</td>\n",
       "      <td>0.001912</td>\n",
       "      <td>0.145653</td>\n",
       "      <td>0.028896</td>\n",
       "    </tr>\n",
       "    <tr>\n",
       "      <th>3</th>\n",
       "      <td>0.601233</td>\n",
       "      <td>0.001712</td>\n",
       "      <td>0.207679</td>\n",
       "      <td>0.022838</td>\n",
       "    </tr>\n",
       "    <tr>\n",
       "      <th>4</th>\n",
       "      <td>0.591315</td>\n",
       "      <td>0.001498</td>\n",
       "      <td>0.318899</td>\n",
       "      <td>0.033667</td>\n",
       "    </tr>\n",
       "    <tr>\n",
       "      <th>...</th>\n",
       "      <td>...</td>\n",
       "      <td>...</td>\n",
       "      <td>...</td>\n",
       "      <td>...</td>\n",
       "    </tr>\n",
       "    <tr>\n",
       "      <th>995</th>\n",
       "      <td>0.401449</td>\n",
       "      <td>0.003639</td>\n",
       "      <td>0.743581</td>\n",
       "      <td>0.002683</td>\n",
       "    </tr>\n",
       "    <tr>\n",
       "      <th>996</th>\n",
       "      <td>0.401450</td>\n",
       "      <td>0.003650</td>\n",
       "      <td>0.743542</td>\n",
       "      <td>0.002668</td>\n",
       "    </tr>\n",
       "    <tr>\n",
       "      <th>997</th>\n",
       "      <td>0.401448</td>\n",
       "      <td>0.003651</td>\n",
       "      <td>0.743564</td>\n",
       "      <td>0.002652</td>\n",
       "    </tr>\n",
       "    <tr>\n",
       "      <th>998</th>\n",
       "      <td>0.401459</td>\n",
       "      <td>0.003645</td>\n",
       "      <td>0.743564</td>\n",
       "      <td>0.002713</td>\n",
       "    </tr>\n",
       "    <tr>\n",
       "      <th>999</th>\n",
       "      <td>0.401463</td>\n",
       "      <td>0.003641</td>\n",
       "      <td>0.743573</td>\n",
       "      <td>0.002714</td>\n",
       "    </tr>\n",
       "  </tbody>\n",
       "</table>\n",
       "<p>1000 rows × 4 columns</p>\n",
       "</div>"
      ],
      "text/plain": [
       "     binary_logloss-mean  binary_logloss-stdv  f1_err-mean  f1_err-stdv\n",
       "0               0.642188             0.002133     0.000000     0.000000\n",
       "1               0.626463             0.001836     0.000000     0.000000\n",
       "2               0.612966             0.001912     0.145653     0.028896\n",
       "3               0.601233             0.001712     0.207679     0.022838\n",
       "4               0.591315             0.001498     0.318899     0.033667\n",
       "..                   ...                  ...          ...          ...\n",
       "995             0.401449             0.003639     0.743581     0.002683\n",
       "996             0.401450             0.003650     0.743542     0.002668\n",
       "997             0.401448             0.003651     0.743564     0.002652\n",
       "998             0.401459             0.003645     0.743564     0.002713\n",
       "999             0.401463             0.003641     0.743573     0.002714\n",
       "\n",
       "[1000 rows x 4 columns]"
      ]
     },
     "execution_count": 45,
     "metadata": {},
     "output_type": "execute_result"
    }
   ],
   "source": [
    "cv_classif_lgb = pd.DataFrame(cv_classif_lgb)\n",
    "cv_classif_lgb"
   ]
  },
  {
   "cell_type": "code",
   "execution_count": 31,
   "metadata": {},
   "outputs": [
    {
     "data": {
      "text/plain": [
       "[<matplotlib.lines.Line2D at 0x167b45090>]"
      ]
     },
     "execution_count": 31,
     "metadata": {},
     "output_type": "execute_result"
    },
    {
     "data": {
      "image/png": "[encoded data removed]",
      "text/plain": [
       "<Figure size 864x648 with 1 Axes>"
      ]
     },
     "metadata": {
      "needs_background": "light"
     },
     "output_type": "display_data"
    }
   ],
   "source": [
    "plt.figure(figsize=(12,9))\n",
    "\n",
    "plt.plot(cv_classif_lgb['binary_error-mean'], color=\"red\")"
   ]
  },
  {
   "cell_type": "code",
   "execution_count": 32,
   "metadata": {},
   "outputs": [
    {
     "name": "stdout",
     "output_type": "stream",
     "text": [
      "Argmin is: 607 and the minimum is : 0.1875451461092262\n"
     ]
    }
   ],
   "source": [
    "print(\"Argmin is:\", np.argmin(cv_classif_lgb['binary_error-mean']), \"and the minimum is :\", np.min(cv_classif_lgb['binary_error-mean']))"
   ]
  },
  {
   "cell_type": "code",
   "execution_count": 34,
   "metadata": {},
   "outputs": [],
   "source": [
    "lgb_num_boost = np.argmin(cv_classif_lgb['binary_error-mean'])"
   ]
  },
  {
   "cell_type": "code",
   "execution_count": 35,
   "metadata": {},
   "outputs": [],
   "source": [
    "lgb_model = LGB_Model().train_lgb(dtrain,  lgb_params, lgb_num_boost)"
   ]
  },
  {
   "cell_type": "code",
   "execution_count": 38,
   "metadata": {},
   "outputs": [],
   "source": [
    "lgb_pred = lgb_model.predict(X_test.iloc[544:,:])\n",
    "lgb_pred_train = lgb_model.predict(X)"
   ]
  },
  {
   "cell_type": "code",
   "execution_count": 39,
   "metadata": {},
   "outputs": [],
   "source": [
    "lgb_submission = submission\n",
    "lgb_submission[\"prediction\"] = np.round(lgb_pred)"
   ]
  },
  {
   "cell_type": "code",
   "execution_count": 40,
   "metadata": {},
   "outputs": [],
   "source": [
    "lgb_submission.to_csv(\"../submissions/LgBM_simple_Le.csv\", index=False)"
   ]
  },
  {
   "cell_type": "code",
   "execution_count": null,
   "metadata": {},
   "outputs": [],
   "source": []
  },
  {
   "cell_type": "code",
   "execution_count": null,
   "metadata": {},
   "outputs": [],
   "source": []
  },
  {
   "cell_type": "code",
   "execution_count": null,
   "metadata": {},
   "outputs": [],
   "source": []
  }
 ],
 "metadata": {
  "kernelspec": {
   "display_name": "Python 3",
   "language": "python",
   "name": "python3"
  },
  "language_info": {
   "codemirror_mode": {
    "name": "ipython",
    "version": 3
   },
   "file_extension": ".py",
   "mimetype": "text/x-python",
   "name": "python",
   "nbconvert_exporter": "python",
   "pygments_lexer": "ipython3",
   "version": "3.7.5"
  }
 },
 "nbformat": 4,
 "nbformat_minor": 4
}
