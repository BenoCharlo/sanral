{
 "nbformat": 4,
 "nbformat_minor": 2,
 "metadata": {
  "language_info": {
   "name": "python",
   "codemirror_mode": {
    "name": "ipython",
    "version": 3
   },
   "version": "3.7.5"
  },
  "orig_nbformat": 2,
  "file_extension": ".py",
  "mimetype": "text/x-python",
  "name": "python",
  "npconvert_exporter": "python",
  "pygments_lexer": "ipython3",
  "version": 3
 },
 "cells": [
  {
   "cell_type": "markdown",
   "execution_count": null,
   "metadata": {},
   "outputs": [],
   "source": [
    "# **PACKAGES**"
   ]
  },
  {
   "cell_type": "code",
   "execution_count": 1,
   "metadata": {},
   "outputs": [],
   "source": [
    "%load_ext autoreload\n",
    "%autoreload 2"
   ]
  },
  {
   "cell_type": "code",
   "execution_count": 3,
   "metadata": {},
   "outputs": [],
   "source": [
    "import os\n",
    "import pandas as pd\n",
    "import numpy as np\n",
    "import matplotlib.pyplot as plt\n",
    "import seaborn\n",
    "\n",
    "ROOT_DIR = os.getcwd()\n",
    "if ROOT_DIR.endswith(\"notebooks\"):\n",
    "    ROOT_DIR = os.path.dirname(ROOT_DIR)\n",
    "\n",
    "os.chdir(ROOT_DIR)"
   ]
  },
  {
   "cell_type": "code",
   "execution_count": 3,
   "metadata": {},
   "outputs": [
    {
     "data": {
      "text/plain": "'/Users/kwassibenocharlesdokodjo/Documents/Challenges/Uber_Sanral/sanral'"
     },
     "execution_count": 3,
     "metadata": {},
     "output_type": "execute_result"
    }
   ],
   "source": []
  },
  {
   "cell_type": "markdown",
   "execution_count": null,
   "metadata": {},
   "outputs": [],
   "source": [
    "# **DATA LOADING**"
   ]
  },
  {
   "cell_type": "code",
   "execution_count": 4,
   "metadata": {},
   "outputs": [],
   "source": [
    "train = pd.read_csv(\"../data/train.csv\")"
   ]
  },
  {
   "cell_type": "code",
   "execution_count": 7,
   "metadata": {},
   "outputs": [
    {
     "name": "stdout",
     "output_type": "stream",
     "text": "(53845, 9)\nEventId\nOccurrence Local Date Time\nReporting Agency\nCause\nSubcause\nStatus\nlongitude\nlatitude\nroad_segment_id\n"
    }
   ],
   "source": [
    "print(train.shape)\n",
    "for col in train.columns:\n",
    "    print(col)"
   ]
  },
  {
   "cell_type": "code",
   "execution_count": 8,
   "metadata": {},
   "outputs": [
    {
     "data": {
      "text/html": "<div>\n<style scoped>\n    .dataframe tbody tr th:only-of-type {\n        vertical-align: middle;\n    }\n\n    .dataframe tbody tr th {\n        vertical-align: top;\n    }\n\n    .dataframe thead th {\n        text-align: right;\n    }\n</style>\n<table border=\"1\" class=\"dataframe\">\n  <thead>\n    <tr style=\"text-align: right;\">\n      <th></th>\n      <th>EventId</th>\n      <th>Occurrence Local Date Time</th>\n      <th>Reporting Agency</th>\n      <th>Cause</th>\n      <th>Subcause</th>\n      <th>Status</th>\n      <th>longitude</th>\n      <th>latitude</th>\n      <th>road_segment_id</th>\n    </tr>\n  </thead>\n  <tbody>\n    <tr>\n      <th>0</th>\n      <td>60558</td>\n      <td>01/01/16 00:53</td>\n      <td>Cam</td>\n      <td>Stationary Vehicle</td>\n      <td>Vehicle On Shoulder</td>\n      <td>Closed</td>\n      <td>18.5408955032</td>\n      <td>-33.888275</td>\n      <td>S0B3CGQ</td>\n    </tr>\n    <tr>\n      <th>1</th>\n      <td>60559</td>\n      <td>01/01/16 00:54</td>\n      <td>CAMERA</td>\n      <td>Accident</td>\n      <td>With A Fixed Object</td>\n      <td>Closed</td>\n      <td>18.9307563219</td>\n      <td>-34.140857</td>\n      <td>RYJYAPI</td>\n    </tr>\n    <tr>\n      <th>2</th>\n      <td>60560</td>\n      <td>01/01/16 02:26</td>\n      <td>Law Enforcement</td>\n      <td>Accident</td>\n      <td>Multi Vehicle</td>\n      <td>Closed</td>\n      <td>18.5533575029</td>\n      <td>-33.959154</td>\n      <td>U3KP57C</td>\n    </tr>\n    <tr>\n      <th>3</th>\n      <td>60561</td>\n      <td>01/01/16 02:56</td>\n      <td>CAMERA</td>\n      <td>Stationary Vehicle</td>\n      <td>Vehicle On Shoulder</td>\n      <td>Closed</td>\n      <td>18.6775561589</td>\n      <td>-33.895258</td>\n      <td>RY0TRQ8</td>\n    </tr>\n    <tr>\n      <th>4</th>\n      <td>60562</td>\n      <td>01/01/16 03:40</td>\n      <td>CAMERA</td>\n      <td>Accident</td>\n      <td>Multi Vehicle</td>\n      <td>Closed</td>\n      <td>18.8371319682</td>\n      <td>-34.087051</td>\n      <td>8LOVJZ3</td>\n    </tr>\n  </tbody>\n</table>\n</div>",
      "text/plain": "   EventId Occurrence Local Date Time Reporting Agency               Cause  \\\n0    60558             01/01/16 00:53              Cam  Stationary Vehicle   \n1    60559             01/01/16 00:54           CAMERA            Accident   \n2    60560             01/01/16 02:26  Law Enforcement            Accident   \n3    60561             01/01/16 02:56           CAMERA  Stationary Vehicle   \n4    60562             01/01/16 03:40           CAMERA            Accident   \n\n              Subcause  Status      longitude   latitude road_segment_id  \n0  Vehicle On Shoulder  Closed  18.5408955032 -33.888275         S0B3CGQ  \n1  With A Fixed Object  Closed  18.9307563219 -34.140857         RYJYAPI  \n2        Multi Vehicle  Closed  18.5533575029 -33.959154         U3KP57C  \n3  Vehicle On Shoulder  Closed  18.6775561589 -33.895258         RY0TRQ8  \n4        Multi Vehicle  Closed  18.8371319682 -34.087051         8LOVJZ3  "
     },
     "execution_count": 8,
     "metadata": {},
     "output_type": "execute_result"
    }
   ],
   "source": [
    "train.head()"
   ]
  },
  {
   "cell_type": "code",
   "execution_count": 10,
   "metadata": {},
   "outputs": [],
   "source": [
    "injuries = pd.read_csv(\"../data/SANRAL_v2/injuries2016_2019.csv\")"
   ]
  },
  {
   "cell_type": "code",
   "execution_count": 12,
   "metadata": {},
   "outputs": [
    {
     "data": {
      "text/plain": "(26307, 5)"
     },
     "execution_count": 12,
     "metadata": {},
     "output_type": "execute_result"
    }
   ],
   "source": [
    "injuries.shape"
   ]
  },
  {
   "cell_type": "code",
   "execution_count": null,
   "metadata": {},
   "outputs": [],
   "source": []
  },
  {
   "cell_type": "code",
   "execution_count": null,
   "metadata": {},
   "outputs": [],
   "source": []
  },
  {
   "cell_type": "code",
   "execution_count": null,
   "metadata": {},
   "outputs": [],
   "source": []
  }
 ]
}