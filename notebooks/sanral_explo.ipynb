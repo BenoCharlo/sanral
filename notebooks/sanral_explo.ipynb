{
 "nbformat": 4,
 "nbformat_minor": 2,
 "metadata": {
  "language_info": {
   "name": "python",
   "codemirror_mode": {
    "name": "ipython",
    "version": 3
   },
   "version": "3.7.5"
  },
  "orig_nbformat": 2,
  "file_extension": ".py",
  "mimetype": "text/x-python",
  "name": "python",
  "npconvert_exporter": "python",
  "pygments_lexer": "ipython3",
  "version": 3
 },
 "cells": [
  {
   "cell_type": "markdown",
   "execution_count": null,
   "metadata": {},
   "outputs": [],
   "source": [
    "# **PACKAGES**"
   ]
  },
  {
   "cell_type": "code",
   "execution_count": 1,
   "metadata": {},
   "outputs": [],
   "source": [
    "%load_ext autoreload\n",
    "%autoreload 2"
   ]
  },
  {
   "cell_type": "code",
   "execution_count": 10,
   "metadata": {},
   "outputs": [],
   "source": [
    "import os\n",
    "import pandas as pd\n",
    "import numpy as np\n",
    "import matplotlib.pyplot as plt\n",
    "import seaborn\n",
    "\n",
    "ROOT_DIR = os.getcwd()\n",
    "if ROOT_DIR.endswith(\"notebooks\"):\n",
    "    ROOT_DIR = os.path.dirname(ROOT_DIR)\n",
    "\n",
    "os.chdir(ROOT_DIR)\n",
    "\n",
    "from src import utils"
   ]
  },
  {
   "cell_type": "code",
   "execution_count": 3,
   "metadata": {},
   "outputs": [
    {
     "data": {
      "text/plain": "'/Users/kwassibenocharlesdokodjo/Documents/Challenges/Uber_Sanral/sanral'"
     },
     "execution_count": 3,
     "metadata": {},
     "output_type": "execute_result"
    }
   ],
   "source": []
  },
  {
   "cell_type": "markdown",
   "execution_count": null,
   "metadata": {},
   "outputs": [],
   "source": [
    "# **DATA LOADING**"
   ]
  },
  {
   "cell_type": "code",
   "execution_count": 59,
   "metadata": {},
   "outputs": [],
   "source": [
    "train = pd.read_csv(\"../data/train.csv\")"
   ]
  },
  {
   "cell_type": "code",
   "execution_count": 13,
   "metadata": {},
   "outputs": [
    {
     "name": "stdout",
     "output_type": "stream",
     "text": "The shape of the data is:  (53845, 9)\n\nThe columns of the dataset are:\n\nEventId\nOccurrence Local Date Time\nReporting Agency\nCause\nSubcause\nStatus\nlongitude\nlatitude\nroad_segment_id\n"
    }
   ],
   "source": [
    "utils.data_args(train)"
   ]
  },
  {
   "cell_type": "code",
   "execution_count": 6,
   "metadata": {},
   "outputs": [
    {
     "data": {
      "text/html": "<div>\n<style scoped>\n    .dataframe tbody tr th:only-of-type {\n        vertical-align: middle;\n    }\n\n    .dataframe tbody tr th {\n        vertical-align: top;\n    }\n\n    .dataframe thead th {\n        text-align: right;\n    }\n</style>\n<table border=\"1\" class=\"dataframe\">\n  <thead>\n    <tr style=\"text-align: right;\">\n      <th></th>\n      <th>EventId</th>\n      <th>Occurrence Local Date Time</th>\n      <th>Reporting Agency</th>\n      <th>Cause</th>\n      <th>Subcause</th>\n      <th>Status</th>\n      <th>longitude</th>\n      <th>latitude</th>\n      <th>road_segment_id</th>\n    </tr>\n  </thead>\n  <tbody>\n    <tr>\n      <th>53825</th>\n      <td>152110</td>\n      <td>31/12/18 18:42</td>\n      <td>Camera</td>\n      <td>Stationary Vehicle</td>\n      <td>Shoulder Lane</td>\n      <td>Closed</td>\n      <td>18.5885641296</td>\n      <td>-33.884510</td>\n      <td>927BHUF</td>\n    </tr>\n    <tr>\n      <th>53826</th>\n      <td>152112</td>\n      <td>31/12/18 18:51</td>\n      <td>Camera</td>\n      <td>Stationary Vehicle</td>\n      <td>Shoulder Lane</td>\n      <td>Closed</td>\n      <td>18.4709049545</td>\n      <td>-33.945125</td>\n      <td>1Q44FGG</td>\n    </tr>\n    <tr>\n      <th>53827</th>\n      <td>152113</td>\n      <td>31/12/18 19:05</td>\n      <td>Camera</td>\n      <td>Stationary Vehicle</td>\n      <td>Shoulder Lane</td>\n      <td>Closed</td>\n      <td>18.7380723339</td>\n      <td>-33.834886</td>\n      <td>G850GMA</td>\n    </tr>\n    <tr>\n      <th>53828</th>\n      <td>152115</td>\n      <td>31/12/18 19:33</td>\n      <td>Camera</td>\n      <td>Stationary Vehicle</td>\n      <td>Shoulder Lane</td>\n      <td>Closed</td>\n      <td>18.5950322972</td>\n      <td>-33.885991</td>\n      <td>F53D1DI</td>\n    </tr>\n    <tr>\n      <th>53829</th>\n      <td>152118</td>\n      <td>31/12/18 19:47</td>\n      <td>Traffic Services (CoCT)</td>\n      <td>Stationary Vehicle</td>\n      <td>Shoulder Lane</td>\n      <td>Closed</td>\n      <td>18.5217629949</td>\n      <td>-33.950323</td>\n      <td>8PA0RQ9</td>\n    </tr>\n    <tr>\n      <th>53830</th>\n      <td>152121</td>\n      <td>31/12/18 19:57</td>\n      <td>Camera</td>\n      <td>Stationary Vehicle</td>\n      <td>Shoulder Lane</td>\n      <td>Closed</td>\n      <td>18.7156517138</td>\n      <td>-33.844516</td>\n      <td>B6D0HHC</td>\n    </tr>\n    <tr>\n      <th>53831</th>\n      <td>152123</td>\n      <td>31/12/18 20:08</td>\n      <td>Camera</td>\n      <td>Police and Military</td>\n      <td>Road Block</td>\n      <td>Closed</td>\n      <td>18.6468955508</td>\n      <td>-33.987655</td>\n      <td>HSJ0WM7</td>\n    </tr>\n    <tr>\n      <th>53832</th>\n      <td>152126</td>\n      <td>31/12/18 20:24</td>\n      <td>Ambulance Services (Provincial)</td>\n      <td>Stationary Vehicle</td>\n      <td>Shoulder Lane</td>\n      <td>Closed</td>\n      <td>18.6123510258</td>\n      <td>-33.889421</td>\n      <td>N90YL69</td>\n    </tr>\n    <tr>\n      <th>53833</th>\n      <td>152127</td>\n      <td>31/12/18 20:33</td>\n      <td>Camera</td>\n      <td>Stationary Vehicle</td>\n      <td>Shoulder Lane</td>\n      <td>Closed</td>\n      <td>18.604061938</td>\n      <td>-33.989788</td>\n      <td>CZBWW0Z</td>\n    </tr>\n    <tr>\n      <th>53834</th>\n      <td>152128</td>\n      <td>31/12/18 20:27</td>\n      <td>Camera</td>\n      <td>Stationary Vehicle</td>\n      <td>Travel Lane</td>\n      <td>Closed</td>\n      <td>18.4662317459</td>\n      <td>-33.945656</td>\n      <td>W70WUF7</td>\n    </tr>\n    <tr>\n      <th>53835</th>\n      <td>152129</td>\n      <td>31/12/18 20:29</td>\n      <td>Camera</td>\n      <td>Stationary Vehicle</td>\n      <td>Shoulder Lane</td>\n      <td>Closed</td>\n      <td>18.7060158541</td>\n      <td>-33.851241</td>\n      <td>GBN0X51</td>\n    </tr>\n    <tr>\n      <th>53836</th>\n      <td>152131</td>\n      <td>31/12/18 20:38</td>\n      <td>Ambulance Services (Provincial)</td>\n      <td>Crash</td>\n      <td>Single Vehicle</td>\n      <td>Closed</td>\n      <td>18.6282788949</td>\n      <td>-34.000837</td>\n      <td>WE8VOFH</td>\n    </tr>\n    <tr>\n      <th>53837</th>\n      <td>152133</td>\n      <td>31/12/18 20:38</td>\n      <td>Camera</td>\n      <td>Stationary Vehicle</td>\n      <td>Shoulder Lane</td>\n      <td>Closed</td>\n      <td>18.5960544114</td>\n      <td>-33.886534</td>\n      <td>F53D1DI</td>\n    </tr>\n    <tr>\n      <th>53838</th>\n      <td>152134</td>\n      <td>31/12/18 20:49</td>\n      <td>Camera</td>\n      <td>Congestion</td>\n      <td>Mainline Congestion</td>\n      <td>Closed</td>\n      <td>18.4340764132</td>\n      <td>-33.919464</td>\n      <td>086LLYS</td>\n    </tr>\n    <tr>\n      <th>53839</th>\n      <td>152135</td>\n      <td>31/12/18 20:57</td>\n      <td>Camera</td>\n      <td>Stationary Vehicle</td>\n      <td>Shoulder Lane</td>\n      <td>Closed</td>\n      <td>18.541170587</td>\n      <td>-33.888418</td>\n      <td>S0B3CGQ</td>\n    </tr>\n    <tr>\n      <th>53840</th>\n      <td>152136</td>\n      <td>31/12/18 21:14</td>\n      <td>Camera</td>\n      <td>Stationary Vehicle</td>\n      <td>Shoulder Lane</td>\n      <td>Closed</td>\n      <td>18.601735312</td>\n      <td>-33.989120</td>\n      <td>CZBWW0Z</td>\n    </tr>\n    <tr>\n      <th>53841</th>\n      <td>152139</td>\n      <td>31/12/18 21:33</td>\n      <td>Camera</td>\n      <td>Stationary Vehicle</td>\n      <td>Shoulder Lane</td>\n      <td>Closed</td>\n      <td>18.5765946661</td>\n      <td>-33.970978</td>\n      <td>7AKUBY4</td>\n    </tr>\n    <tr>\n      <th>53842</th>\n      <td>152142</td>\n      <td>31/12/18 22:01</td>\n      <td>SAPS</td>\n      <td>Police and Military</td>\n      <td>Hijacking</td>\n      <td>Closed</td>\n      <td>18.6585756463</td>\n      <td>-33.949194</td>\n      <td>YQCBO2Y</td>\n    </tr>\n    <tr>\n      <th>53843</th>\n      <td>152143</td>\n      <td>31/12/18 22:12</td>\n      <td>Camera</td>\n      <td>Stationary Vehicle</td>\n      <td>Shoulder Lane</td>\n      <td>Closed</td>\n      <td>18.6250798029</td>\n      <td>-33.888283</td>\n      <td>Z2OSI9E</td>\n    </tr>\n    <tr>\n      <th>53844</th>\n      <td>152149</td>\n      <td>31/12/18 23:45</td>\n      <td>SAPS</td>\n      <td>Stationary Vehicle</td>\n      <td>Shoulder Lane</td>\n      <td>Closed</td>\n      <td>18.6529483529</td>\n      <td>-33.976858</td>\n      <td>GFX7S4B</td>\n    </tr>\n  </tbody>\n</table>\n</div>",
      "text/plain": "       EventId Occurrence Local Date Time                 Reporting Agency  \\\n53825   152110             31/12/18 18:42                           Camera   \n53826   152112             31/12/18 18:51                           Camera   \n53827   152113             31/12/18 19:05                           Camera   \n53828   152115             31/12/18 19:33                           Camera   \n53829   152118             31/12/18 19:47          Traffic Services (CoCT)   \n53830   152121             31/12/18 19:57                           Camera   \n53831   152123             31/12/18 20:08                           Camera   \n53832   152126             31/12/18 20:24  Ambulance Services (Provincial)   \n53833   152127             31/12/18 20:33                           Camera   \n53834   152128             31/12/18 20:27                           Camera   \n53835   152129             31/12/18 20:29                           Camera   \n53836   152131             31/12/18 20:38  Ambulance Services (Provincial)   \n53837   152133             31/12/18 20:38                           Camera   \n53838   152134             31/12/18 20:49                           Camera   \n53839   152135             31/12/18 20:57                           Camera   \n53840   152136             31/12/18 21:14                           Camera   \n53841   152139             31/12/18 21:33                           Camera   \n53842   152142             31/12/18 22:01                             SAPS   \n53843   152143             31/12/18 22:12                           Camera   \n53844   152149             31/12/18 23:45                             SAPS   \n\n                     Cause             Subcause  Status      longitude  \\\n53825   Stationary Vehicle        Shoulder Lane  Closed  18.5885641296   \n53826   Stationary Vehicle        Shoulder Lane  Closed  18.4709049545   \n53827   Stationary Vehicle        Shoulder Lane  Closed  18.7380723339   \n53828   Stationary Vehicle        Shoulder Lane  Closed  18.5950322972   \n53829   Stationary Vehicle        Shoulder Lane  Closed  18.5217629949   \n53830   Stationary Vehicle        Shoulder Lane  Closed  18.7156517138   \n53831  Police and Military           Road Block  Closed  18.6468955508   \n53832   Stationary Vehicle        Shoulder Lane  Closed  18.6123510258   \n53833   Stationary Vehicle        Shoulder Lane  Closed   18.604061938   \n53834   Stationary Vehicle          Travel Lane  Closed  18.4662317459   \n53835   Stationary Vehicle        Shoulder Lane  Closed  18.7060158541   \n53836                Crash       Single Vehicle  Closed  18.6282788949   \n53837   Stationary Vehicle        Shoulder Lane  Closed  18.5960544114   \n53838           Congestion  Mainline Congestion  Closed  18.4340764132   \n53839   Stationary Vehicle        Shoulder Lane  Closed   18.541170587   \n53840   Stationary Vehicle        Shoulder Lane  Closed   18.601735312   \n53841   Stationary Vehicle        Shoulder Lane  Closed  18.5765946661   \n53842  Police and Military            Hijacking  Closed  18.6585756463   \n53843   Stationary Vehicle        Shoulder Lane  Closed  18.6250798029   \n53844   Stationary Vehicle        Shoulder Lane  Closed  18.6529483529   \n\n        latitude road_segment_id  \n53825 -33.884510         927BHUF  \n53826 -33.945125         1Q44FGG  \n53827 -33.834886         G850GMA  \n53828 -33.885991         F53D1DI  \n53829 -33.950323         8PA0RQ9  \n53830 -33.844516         B6D0HHC  \n53831 -33.987655         HSJ0WM7  \n53832 -33.889421         N90YL69  \n53833 -33.989788         CZBWW0Z  \n53834 -33.945656         W70WUF7  \n53835 -33.851241         GBN0X51  \n53836 -34.000837         WE8VOFH  \n53837 -33.886534         F53D1DI  \n53838 -33.919464         086LLYS  \n53839 -33.888418         S0B3CGQ  \n53840 -33.989120         CZBWW0Z  \n53841 -33.970978         7AKUBY4  \n53842 -33.949194         YQCBO2Y  \n53843 -33.888283         Z2OSI9E  \n53844 -33.976858         GFX7S4B  "
     },
     "execution_count": 6,
     "metadata": {},
     "output_type": "execute_result"
    }
   ],
   "source": [
    "train.tail(20)"
   ]
  },
  {
   "cell_type": "code",
   "execution_count": 42,
   "metadata": {},
   "outputs": [],
   "source": [
    "injuries = pd.read_csv(\"../data/SANRAL_v2/injuries2016_2019.csv\")\n",
    "vehicles = pd.read_csv(\"../data/SANRAL_v2/Vehicles2016_2019.csv\").drop(\"Unnamed: 5\", axis=1)"
   ]
  },
  {
   "cell_type": "code",
   "execution_count": 15,
   "metadata": {},
   "outputs": [
    {
     "name": "stdout",
     "output_type": "stream",
     "text": "The shape of the data is:  (26307, 5)\n\nThe columns of the dataset are:\n\nNetwork ID\nEvent Id\nCreated Local Date Time\nNo Injuries\nInjury Type\n"
    }
   ],
   "source": [
    "utils.data_args(injuries)"
   ]
  },
  {
   "cell_type": "code",
   "execution_count": 43,
   "metadata": {},
   "outputs": [
    {
     "name": "stdout",
     "output_type": "stream",
     "text": "The shape of the data is:  (72386, 5)\n\nThe columns of the dataset are:\n\nNetworkId\nEventID\nCreatedLOcalDateTime\nVehicleType\nColor\n"
    }
   ],
   "source": [
    "utils.data_args(vehicles)"
   ]
  },
  {
   "cell_type": "code",
   "execution_count": 19,
   "metadata": {},
   "outputs": [
    {
     "data": {
      "text/html": "<div>\n<style scoped>\n    .dataframe tbody tr th:only-of-type {\n        vertical-align: middle;\n    }\n\n    .dataframe tbody tr th {\n        vertical-align: top;\n    }\n\n    .dataframe thead th {\n        text-align: right;\n    }\n</style>\n<table border=\"1\" class=\"dataframe\">\n  <thead>\n    <tr style=\"text-align: right;\">\n      <th></th>\n      <th>Network ID</th>\n      <th>Event Id</th>\n      <th>Created Local Date Time</th>\n      <th>No Injuries</th>\n      <th>Injury Type</th>\n    </tr>\n  </thead>\n  <tbody>\n    <tr>\n      <th>26297</th>\n      <td>WC</td>\n      <td>166125</td>\n      <td>Mar 31 2019  9:02PM</td>\n      <td>0</td>\n      <td>None</td>\n    </tr>\n    <tr>\n      <th>26298</th>\n      <td>WC</td>\n      <td>166127</td>\n      <td>Mar 31 2019  9:23PM</td>\n      <td>0</td>\n      <td>None</td>\n    </tr>\n    <tr>\n      <th>26299</th>\n      <td>WC</td>\n      <td>166128</td>\n      <td>Mar 31 2019  9:26PM</td>\n      <td>0</td>\n      <td>None</td>\n    </tr>\n    <tr>\n      <th>26300</th>\n      <td>WC</td>\n      <td>166129</td>\n      <td>Mar 31 2019  9:44PM</td>\n      <td>0</td>\n      <td>None</td>\n    </tr>\n    <tr>\n      <th>26301</th>\n      <td>WC</td>\n      <td>166130</td>\n      <td>Mar 31 2019  9:56PM</td>\n      <td>0</td>\n      <td>None</td>\n    </tr>\n    <tr>\n      <th>26302</th>\n      <td>WC</td>\n      <td>166131</td>\n      <td>Mar 31 2019 10:29PM</td>\n      <td>0</td>\n      <td>None</td>\n    </tr>\n    <tr>\n      <th>26303</th>\n      <td>WC</td>\n      <td>166132</td>\n      <td>Mar 31 2019 10:42PM</td>\n      <td>0</td>\n      <td>None</td>\n    </tr>\n    <tr>\n      <th>26304</th>\n      <td>WC</td>\n      <td>166133</td>\n      <td>Mar 31 2019 10:53PM</td>\n      <td>0</td>\n      <td>None</td>\n    </tr>\n    <tr>\n      <th>26305</th>\n      <td>WC</td>\n      <td>166134</td>\n      <td>Mar 31 2019 10:57PM</td>\n      <td>0</td>\n      <td>None</td>\n    </tr>\n    <tr>\n      <th>26306</th>\n      <td>WC</td>\n      <td>166135</td>\n      <td>Mar 31 2019 11:24PM</td>\n      <td>0</td>\n      <td>None</td>\n    </tr>\n  </tbody>\n</table>\n</div>",
      "text/plain": "      Network ID  Event Id         Created Local Date Time  No Injuries  \\\n26297         WC    166125  Mar 31 2019  9:02PM                       0   \n26298         WC    166127  Mar 31 2019  9:23PM                       0   \n26299         WC    166128  Mar 31 2019  9:26PM                       0   \n26300         WC    166129  Mar 31 2019  9:44PM                       0   \n26301         WC    166130  Mar 31 2019  9:56PM                       0   \n26302         WC    166131  Mar 31 2019 10:29PM                       0   \n26303         WC    166132  Mar 31 2019 10:42PM                       0   \n26304         WC    166133  Mar 31 2019 10:53PM                       0   \n26305         WC    166134  Mar 31 2019 10:57PM                       0   \n26306         WC    166135  Mar 31 2019 11:24PM                       0   \n\n      Injury Type  \n26297        None  \n26298        None  \n26299        None  \n26300        None  \n26301        None  \n26302        None  \n26303        None  \n26304        None  \n26305        None  \n26306        None  "
     },
     "execution_count": 19,
     "metadata": {},
     "output_type": "execute_result"
    }
   ],
   "source": [
    "injuries.tail(10)"
   ]
  },
  {
   "cell_type": "code",
   "execution_count": 22,
   "metadata": {},
   "outputs": [
    {
     "data": {
      "text/plain": "None        0.932413\nLight       0.040712\nSevere      0.015205\nFatality    0.011670\nName: Injury Type, dtype: float64"
     },
     "execution_count": 22,
     "metadata": {},
     "output_type": "execute_result"
    }
   ],
   "source": [
    "injuries[\"Injury Type\"].value_counts(True)"
   ]
  },
  {
   "cell_type": "code",
   "execution_count": 44,
   "metadata": {},
   "outputs": [
    {
     "data": {
      "text/html": "<div>\n<style scoped>\n    .dataframe tbody tr th:only-of-type {\n        vertical-align: middle;\n    }\n\n    .dataframe tbody tr th {\n        vertical-align: top;\n    }\n\n    .dataframe thead th {\n        text-align: right;\n    }\n</style>\n<table border=\"1\" class=\"dataframe\">\n  <thead>\n    <tr style=\"text-align: right;\">\n      <th></th>\n      <th>NetworkId</th>\n      <th>EventID</th>\n      <th>CreatedLOcalDateTime</th>\n      <th>VehicleType</th>\n      <th>Color</th>\n    </tr>\n  </thead>\n  <tbody>\n    <tr>\n      <th>72366</th>\n      <td>WC</td>\n      <td>166117.0</td>\n      <td>Mar 31 2019  4:54PM</td>\n      <td>Taxi</td>\n      <td>White</td>\n    </tr>\n    <tr>\n      <th>72367</th>\n      <td>WC</td>\n      <td>166118.0</td>\n      <td>Mar 31 2019  5:44PM</td>\n      <td>LDV</td>\n      <td>White</td>\n    </tr>\n    <tr>\n      <th>72368</th>\n      <td>WC</td>\n      <td>166119.0</td>\n      <td>Mar 31 2019  6:23PM</td>\n      <td>Car</td>\n      <td>Red</td>\n    </tr>\n    <tr>\n      <th>72369</th>\n      <td>WC</td>\n      <td>166120.0</td>\n      <td>Mar 31 2019  6:31PM</td>\n      <td>Car</td>\n      <td>White</td>\n    </tr>\n    <tr>\n      <th>72370</th>\n      <td>WC</td>\n      <td>166121.0</td>\n      <td>Mar 31 2019  6:42PM</td>\n      <td>Car</td>\n      <td>Other</td>\n    </tr>\n    <tr>\n      <th>72371</th>\n      <td>WC</td>\n      <td>166122.0</td>\n      <td>Mar 31 2019  7:02PM</td>\n      <td>Car</td>\n      <td>Other</td>\n    </tr>\n    <tr>\n      <th>72372</th>\n      <td>WC</td>\n      <td>166123.0</td>\n      <td>Mar 31 2019  7:05PM</td>\n      <td>Car</td>\n      <td>Other</td>\n    </tr>\n    <tr>\n      <th>72373</th>\n      <td>WC</td>\n      <td>166124.0</td>\n      <td>Mar 31 2019  8:17PM</td>\n      <td>Car</td>\n      <td>White</td>\n    </tr>\n    <tr>\n      <th>72374</th>\n      <td>WC</td>\n      <td>166124.0</td>\n      <td>Mar 31 2019  8:17PM</td>\n      <td>Car</td>\n      <td>Silver</td>\n    </tr>\n    <tr>\n      <th>72375</th>\n      <td>WC</td>\n      <td>166124.0</td>\n      <td>Mar 31 2019  8:17PM</td>\n      <td>Car</td>\n      <td>Other</td>\n    </tr>\n    <tr>\n      <th>72376</th>\n      <td>WC</td>\n      <td>166125.0</td>\n      <td>Mar 31 2019  9:02PM</td>\n      <td>Taxi</td>\n      <td>White</td>\n    </tr>\n    <tr>\n      <th>72377</th>\n      <td>WC</td>\n      <td>166127.0</td>\n      <td>Mar 31 2019  9:23PM</td>\n      <td>Car</td>\n      <td>Silver</td>\n    </tr>\n    <tr>\n      <th>72378</th>\n      <td>WC</td>\n      <td>166128.0</td>\n      <td>Mar 31 2019  9:26PM</td>\n      <td>LDV</td>\n      <td>Other</td>\n    </tr>\n    <tr>\n      <th>72379</th>\n      <td>WC</td>\n      <td>166129.0</td>\n      <td>Mar 31 2019  9:44PM</td>\n      <td>Car</td>\n      <td>Black</td>\n    </tr>\n    <tr>\n      <th>72380</th>\n      <td>WC</td>\n      <td>166130.0</td>\n      <td>Mar 31 2019  9:56PM</td>\n      <td>Car</td>\n      <td>Other</td>\n    </tr>\n    <tr>\n      <th>72381</th>\n      <td>WC</td>\n      <td>166131.0</td>\n      <td>Mar 31 2019 10:29PM</td>\n      <td>LDV</td>\n      <td>Other</td>\n    </tr>\n    <tr>\n      <th>72382</th>\n      <td>WC</td>\n      <td>166133.0</td>\n      <td>Mar 31 2019 10:53PM</td>\n      <td>Car</td>\n      <td>Silver</td>\n    </tr>\n    <tr>\n      <th>72383</th>\n      <td>WC</td>\n      <td>166134.0</td>\n      <td>Mar 31 2019 10:57PM</td>\n      <td>Car</td>\n      <td>White</td>\n    </tr>\n    <tr>\n      <th>72384</th>\n      <td>WC</td>\n      <td>166135.0</td>\n      <td>Mar 31 2019 11:24PM</td>\n      <td>Car</td>\n      <td>Silver</td>\n    </tr>\n    <tr>\n      <th>72385</th>\n      <td>WC</td>\n      <td>166135.0</td>\n      <td>Mar 31 2019 11:24PM</td>\n      <td>Car</td>\n      <td>Red</td>\n    </tr>\n  </tbody>\n</table>\n</div>",
      "text/plain": "      NetworkId   EventID            CreatedLOcalDateTime VehicleType   Color\n72366        WC  166117.0  Mar 31 2019  4:54PM                   Taxi   White\n72367        WC  166118.0  Mar 31 2019  5:44PM                    LDV   White\n72368        WC  166119.0  Mar 31 2019  6:23PM                    Car     Red\n72369        WC  166120.0  Mar 31 2019  6:31PM                    Car   White\n72370        WC  166121.0  Mar 31 2019  6:42PM                    Car   Other\n72371        WC  166122.0  Mar 31 2019  7:02PM                    Car   Other\n72372        WC  166123.0  Mar 31 2019  7:05PM                    Car   Other\n72373        WC  166124.0  Mar 31 2019  8:17PM                    Car   White\n72374        WC  166124.0  Mar 31 2019  8:17PM                    Car  Silver\n72375        WC  166124.0  Mar 31 2019  8:17PM                    Car   Other\n72376        WC  166125.0  Mar 31 2019  9:02PM                   Taxi   White\n72377        WC  166127.0  Mar 31 2019  9:23PM                    Car  Silver\n72378        WC  166128.0  Mar 31 2019  9:26PM                    LDV   Other\n72379        WC  166129.0  Mar 31 2019  9:44PM                    Car   Black\n72380        WC  166130.0  Mar 31 2019  9:56PM                    Car   Other\n72381        WC  166131.0  Mar 31 2019 10:29PM                    LDV   Other\n72382        WC  166133.0  Mar 31 2019 10:53PM                    Car  Silver\n72383        WC  166134.0  Mar 31 2019 10:57PM                    Car   White\n72384        WC  166135.0  Mar 31 2019 11:24PM                    Car  Silver\n72385        WC  166135.0  Mar 31 2019 11:24PM                    Car     Red"
     },
     "execution_count": 44,
     "metadata": {},
     "output_type": "execute_result"
    }
   ],
   "source": [
    "vehicles.tail(20)"
   ]
  },
  {
   "cell_type": "code",
   "execution_count": 60,
   "metadata": {},
   "outputs": [],
   "source": [
    "target = [1 if event in list(injuries[\"Event Id\"].unique()) else 0 for event in list(train[\"EventId\"].unique())]"
   ]
  },
  {
   "cell_type": "code",
   "execution_count": 62,
   "metadata": {},
   "outputs": [],
   "source": [
    "train[\"target\"] = target"
   ]
  },
  {
   "cell_type": "code",
   "execution_count": 63,
   "metadata": {},
   "outputs": [],
   "source": [
    "train = train.merge(injuries, left_on=\"EventId\", right_on=\"Event Id\", how=\"left\")\n",
    "train = train.merge(vehicles, left_on=\"EventId\", right_on=\"EventID\", how=\"left\")"
   ]
  },
  {
   "cell_type": "code",
   "execution_count": 66,
   "metadata": {},
   "outputs": [
    {
     "data": {
      "text/plain": "0    0.736018\n1    0.263982\nName: target, dtype: float64"
     },
     "execution_count": 66,
     "metadata": {},
     "output_type": "execute_result"
    }
   ],
   "source": [
    "train.target.value_counts(True)"
   ]
  },
  {
   "cell_type": "code",
   "execution_count": 64,
   "metadata": {},
   "outputs": [
    {
     "data": {
      "text/html": "<div>\n<style scoped>\n    .dataframe tbody tr th:only-of-type {\n        vertical-align: middle;\n    }\n\n    .dataframe tbody tr th {\n        vertical-align: top;\n    }\n\n    .dataframe thead th {\n        text-align: right;\n    }\n</style>\n<table border=\"1\" class=\"dataframe\">\n  <thead>\n    <tr style=\"text-align: right;\">\n      <th></th>\n      <th>EventId</th>\n      <th>Occurrence Local Date Time</th>\n      <th>Reporting Agency</th>\n      <th>Cause</th>\n      <th>Subcause</th>\n      <th>Status</th>\n      <th>longitude</th>\n      <th>latitude</th>\n      <th>road_segment_id</th>\n      <th>target</th>\n      <th>Network ID</th>\n      <th>Event Id</th>\n      <th>Created Local Date Time</th>\n      <th>No Injuries</th>\n      <th>Injury Type</th>\n      <th>NetworkId</th>\n      <th>EventID</th>\n      <th>CreatedLOcalDateTime</th>\n      <th>VehicleType</th>\n      <th>Color</th>\n    </tr>\n  </thead>\n  <tbody>\n    <tr>\n      <th>0</th>\n      <td>60558</td>\n      <td>01/01/16 00:53</td>\n      <td>Cam</td>\n      <td>Stationary Vehicle</td>\n      <td>Vehicle On Shoulder</td>\n      <td>Closed</td>\n      <td>18.5408955032</td>\n      <td>-33.888275</td>\n      <td>S0B3CGQ</td>\n      <td>0</td>\n      <td>NaN</td>\n      <td>NaN</td>\n      <td>NaN</td>\n      <td>NaN</td>\n      <td>NaN</td>\n      <td>WC</td>\n      <td>60558.0</td>\n      <td>01/01/16 00:52</td>\n      <td>Car</td>\n      <td>White</td>\n    </tr>\n    <tr>\n      <th>1</th>\n      <td>60559</td>\n      <td>01/01/16 00:54</td>\n      <td>CAMERA</td>\n      <td>Accident</td>\n      <td>With A Fixed Object</td>\n      <td>Closed</td>\n      <td>18.9307563219</td>\n      <td>-34.140857</td>\n      <td>RYJYAPI</td>\n      <td>0</td>\n      <td>NaN</td>\n      <td>NaN</td>\n      <td>NaN</td>\n      <td>NaN</td>\n      <td>NaN</td>\n      <td>WC</td>\n      <td>60559.0</td>\n      <td>01/01/16 00:49</td>\n      <td>Car</td>\n      <td>Other</td>\n    </tr>\n    <tr>\n      <th>4</th>\n      <td>60561</td>\n      <td>01/01/16 02:56</td>\n      <td>CAMERA</td>\n      <td>Stationary Vehicle</td>\n      <td>Vehicle On Shoulder</td>\n      <td>Closed</td>\n      <td>18.6775561589</td>\n      <td>-33.895258</td>\n      <td>RY0TRQ8</td>\n      <td>0</td>\n      <td>NaN</td>\n      <td>NaN</td>\n      <td>NaN</td>\n      <td>NaN</td>\n      <td>NaN</td>\n      <td>WC</td>\n      <td>60561.0</td>\n      <td>01/01/16 02:55</td>\n      <td>Car</td>\n      <td>White</td>\n    </tr>\n    <tr>\n      <th>5</th>\n      <td>60562</td>\n      <td>01/01/16 03:40</td>\n      <td>CAMERA</td>\n      <td>Accident</td>\n      <td>Multi Vehicle</td>\n      <td>Closed</td>\n      <td>18.8371319682</td>\n      <td>-34.087051</td>\n      <td>8LOVJZ3</td>\n      <td>0</td>\n      <td>NaN</td>\n      <td>NaN</td>\n      <td>NaN</td>\n      <td>NaN</td>\n      <td>NaN</td>\n      <td>WC</td>\n      <td>60562.0</td>\n      <td>01/01/16 03:39</td>\n      <td>Car</td>\n      <td>Other</td>\n    </tr>\n    <tr>\n      <th>6</th>\n      <td>60562</td>\n      <td>01/01/16 03:40</td>\n      <td>CAMERA</td>\n      <td>Accident</td>\n      <td>Multi Vehicle</td>\n      <td>Closed</td>\n      <td>18.8371319682</td>\n      <td>-34.087051</td>\n      <td>8LOVJZ3</td>\n      <td>0</td>\n      <td>NaN</td>\n      <td>NaN</td>\n      <td>NaN</td>\n      <td>NaN</td>\n      <td>NaN</td>\n      <td>WC</td>\n      <td>60562.0</td>\n      <td>01/01/16 03:39</td>\n      <td>Car</td>\n      <td>Other</td>\n    </tr>\n    <tr>\n      <th>...</th>\n      <td>...</td>\n      <td>...</td>\n      <td>...</td>\n      <td>...</td>\n      <td>...</td>\n      <td>...</td>\n      <td>...</td>\n      <td>...</td>\n      <td>...</td>\n      <td>...</td>\n      <td>...</td>\n      <td>...</td>\n      <td>...</td>\n      <td>...</td>\n      <td>...</td>\n      <td>...</td>\n      <td>...</td>\n      <td>...</td>\n      <td>...</td>\n      <td>...</td>\n    </tr>\n    <tr>\n      <th>59393</th>\n      <td>152033</td>\n      <td>31/12/18 11:55</td>\n      <td>Camera</td>\n      <td>Police and Military</td>\n      <td>Road Rage</td>\n      <td>Closed</td>\n      <td>18.4555275507</td>\n      <td>-33.937959</td>\n      <td>M223F8G</td>\n      <td>0</td>\n      <td>NaN</td>\n      <td>NaN</td>\n      <td>NaN</td>\n      <td>NaN</td>\n      <td>NaN</td>\n      <td>WC</td>\n      <td>152033.0</td>\n      <td>Dec 31 2018 11:54AM</td>\n      <td>Car</td>\n      <td>Silver</td>\n    </tr>\n    <tr>\n      <th>59394</th>\n      <td>152033</td>\n      <td>31/12/18 11:55</td>\n      <td>Camera</td>\n      <td>Police and Military</td>\n      <td>Road Rage</td>\n      <td>Closed</td>\n      <td>18.4555275507</td>\n      <td>-33.937959</td>\n      <td>M223F8G</td>\n      <td>0</td>\n      <td>NaN</td>\n      <td>NaN</td>\n      <td>NaN</td>\n      <td>NaN</td>\n      <td>NaN</td>\n      <td>WC</td>\n      <td>152033.0</td>\n      <td>Dec 31 2018 11:54AM</td>\n      <td>Car</td>\n      <td>White</td>\n    </tr>\n    <tr>\n      <th>59406</th>\n      <td>152049</td>\n      <td>31/12/18 13:43</td>\n      <td>Camera</td>\n      <td>Stationary Vehicle</td>\n      <td>Shoulder Lane</td>\n      <td>Closed</td>\n      <td>18.5918570056</td>\n      <td>-33.884768</td>\n      <td>MJ9YER2</td>\n      <td>0</td>\n      <td>NaN</td>\n      <td>NaN</td>\n      <td>NaN</td>\n      <td>NaN</td>\n      <td>NaN</td>\n      <td>WC</td>\n      <td>152049.0</td>\n      <td>Dec 31 2018  1:43PM</td>\n      <td>Truck</td>\n      <td>White</td>\n    </tr>\n    <tr>\n      <th>59408</th>\n      <td>152051</td>\n      <td>31/12/18 14:03</td>\n      <td>Camera</td>\n      <td>Stationary Vehicle</td>\n      <td>Shoulder Lane</td>\n      <td>Closed</td>\n      <td>18.4414464858</td>\n      <td>-33.921610</td>\n      <td>7QBQK9L</td>\n      <td>0</td>\n      <td>NaN</td>\n      <td>NaN</td>\n      <td>NaN</td>\n      <td>NaN</td>\n      <td>NaN</td>\n      <td>WC</td>\n      <td>152051.0</td>\n      <td>Dec 31 2018  2:01PM</td>\n      <td>Truck</td>\n      <td>White</td>\n    </tr>\n    <tr>\n      <th>59423</th>\n      <td>152070</td>\n      <td>31/12/18 14:57</td>\n      <td>Traffic Services (CoCT)</td>\n      <td>Fire &amp; Smoke</td>\n      <td>Veld Fire</td>\n      <td>Closed</td>\n      <td>18.4545246866</td>\n      <td>-33.939941</td>\n      <td>QFRMXC4</td>\n      <td>0</td>\n      <td>NaN</td>\n      <td>NaN</td>\n      <td>NaN</td>\n      <td>NaN</td>\n      <td>NaN</td>\n      <td>NaN</td>\n      <td>NaN</td>\n      <td>NaN</td>\n      <td>NaN</td>\n      <td>NaN</td>\n    </tr>\n  </tbody>\n</table>\n<p>43771 rows × 20 columns</p>\n</div>",
      "text/plain": "       EventId Occurrence Local Date Time         Reporting Agency  \\\n0        60558             01/01/16 00:53                      Cam   \n1        60559             01/01/16 00:54                   CAMERA   \n4        60561             01/01/16 02:56                   CAMERA   \n5        60562             01/01/16 03:40                   CAMERA   \n6        60562             01/01/16 03:40                   CAMERA   \n...        ...                        ...                      ...   \n59393   152033             31/12/18 11:55                   Camera   \n59394   152033             31/12/18 11:55                   Camera   \n59406   152049             31/12/18 13:43                   Camera   \n59408   152051             31/12/18 14:03                   Camera   \n59423   152070             31/12/18 14:57  Traffic Services (CoCT)   \n\n                     Cause             Subcause  Status      longitude  \\\n0       Stationary Vehicle  Vehicle On Shoulder  Closed  18.5408955032   \n1                 Accident  With A Fixed Object  Closed  18.9307563219   \n4       Stationary Vehicle  Vehicle On Shoulder  Closed  18.6775561589   \n5                 Accident        Multi Vehicle  Closed  18.8371319682   \n6                 Accident        Multi Vehicle  Closed  18.8371319682   \n...                    ...                  ...     ...            ...   \n59393  Police and Military            Road Rage  Closed  18.4555275507   \n59394  Police and Military            Road Rage  Closed  18.4555275507   \n59406   Stationary Vehicle        Shoulder Lane  Closed  18.5918570056   \n59408   Stationary Vehicle        Shoulder Lane  Closed  18.4414464858   \n59423         Fire & Smoke            Veld Fire  Closed  18.4545246866   \n\n        latitude road_segment_id  target Network ID  Event Id  \\\n0     -33.888275         S0B3CGQ       0        NaN       NaN   \n1     -34.140857         RYJYAPI       0        NaN       NaN   \n4     -33.895258         RY0TRQ8       0        NaN       NaN   \n5     -34.087051         8LOVJZ3       0        NaN       NaN   \n6     -34.087051         8LOVJZ3       0        NaN       NaN   \n...          ...             ...     ...        ...       ...   \n59393 -33.937959         M223F8G       0        NaN       NaN   \n59394 -33.937959         M223F8G       0        NaN       NaN   \n59406 -33.884768         MJ9YER2       0        NaN       NaN   \n59408 -33.921610         7QBQK9L       0        NaN       NaN   \n59423 -33.939941         QFRMXC4       0        NaN       NaN   \n\n      Created Local Date Time  No Injuries Injury Type NetworkId   EventID  \\\n0                         NaN          NaN         NaN        WC   60558.0   \n1                         NaN          NaN         NaN        WC   60559.0   \n4                         NaN          NaN         NaN        WC   60561.0   \n5                         NaN          NaN         NaN        WC   60562.0   \n6                         NaN          NaN         NaN        WC   60562.0   \n...                       ...          ...         ...       ...       ...   \n59393                     NaN          NaN         NaN        WC  152033.0   \n59394                     NaN          NaN         NaN        WC  152033.0   \n59406                     NaN          NaN         NaN        WC  152049.0   \n59408                     NaN          NaN         NaN        WC  152051.0   \n59423                     NaN          NaN         NaN       NaN       NaN   \n\n                 CreatedLOcalDateTime VehicleType   Color  \n0                      01/01/16 00:52         Car   White  \n1                      01/01/16 00:49         Car   Other  \n4                      01/01/16 02:55         Car   White  \n5                      01/01/16 03:39         Car   Other  \n6                      01/01/16 03:39         Car   Other  \n...                               ...         ...     ...  \n59393  Dec 31 2018 11:54AM                    Car  Silver  \n59394  Dec 31 2018 11:54AM                    Car   White  \n59406  Dec 31 2018  1:43PM                  Truck   White  \n59408  Dec 31 2018  2:01PM                  Truck   White  \n59423                             NaN         NaN     NaN  \n\n[43771 rows x 20 columns]"
     },
     "execution_count": 64,
     "metadata": {},
     "output_type": "execute_result"
    }
   ],
   "source": [
    "train[train[\"target\"]==0]"
   ]
  },
  {
   "cell_type": "code",
   "execution_count": 54,
   "metadata": {},
   "outputs": [
    {
     "name": "stdout",
     "output_type": "stream",
     "text": "The shape of the data is:  (59470, 19)\n\nThe columns of the dataset are:\n\nEventId\nOccurrence Local Date Time\nReporting Agency\nCause\nSubcause\nStatus\nlongitude\nlatitude\nroad_segment_id\nNetwork ID\nEvent Id\nCreated Local Date Time\nNo Injuries\nInjury Type\nNetworkId\nEventID\nCreatedLOcalDateTime\nVehicleType\nColor\n"
    }
   ],
   "source": [
    "utils.data_args(train)"
   ]
  },
  {
   "cell_type": "code",
   "execution_count": 67,
   "metadata": {},
   "outputs": [],
   "source": [
    "submission = pd.read_csv(\"../data/SampleSubmission.csv\")"
   ]
  },
  {
   "cell_type": "code",
   "execution_count": 0,
   "metadata": {},
   "outputs": [],
   "source": [
    "submission.head()"
   ]
  },
  {
   "cell_type": "code",
   "execution_count": null,
   "metadata": {},
   "outputs": [],
   "source": []
  },
  {
   "cell_type": "code",
   "execution_count": null,
   "metadata": {},
   "outputs": [],
   "source": []
  }
 ]
}